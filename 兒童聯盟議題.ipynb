{
 "cells": [
  {
   "cell_type": "code",
   "execution_count": null,
   "id": "c57e088a",
   "metadata": {},
   "outputs": [],
   "source": [
    "import pandas as pd\n",
    "\n",
    "#顯示所有欄位\n",
    "pd.set_option('display.max_columns', None)\n",
    "pd.set_option('display.max_rows', None)\n",
    "\n",
    "# 讀取 Excel 檔案\n",
    "excel_file = '議題資料.xlsx'\n",
    "excel_data = pd.ExcelFile (excel_file)\n",
    "\n",
    "# 取得所有工作表名稱\n",
    "sheet_names = excel_data.sheet_names\n",
    "\n",
    "# 逐一讀取並存為 CSV，並讀取 CSV 檔案\n",
    "for sheet_name in sheet_names:\n",
    "    df = excel_data.parse(sheet_name)\n",
    "    df.to_csv(f'{sheet_name}.csv', index=False)\n",
    "\n",
    "# 轉換資料型態，但出現,無法轉換\n",
    "# numeric_columns = ['Engagement Score', 'Reaction All', 'Like', 'Love', 'HaHa', \n",
    "#                   'Wow', 'Sad', 'Angry', 'Shares', 'Comments']\n",
    "                  \n",
    "# for col in numeric_columns:\n",
    "#     df_clean[col] = pd.to_numeric(df_clean[col])\n",
    "# count_data = df_clean.groupby('Date').size()\n",
    "\n",
    "# plt.figure(figsize=(10, 5))\n",
    "# count_data.plot(kind='bar', color='skyblue')\n",
    "# plt.title('Post Volume Over Time')\n",
    "# plt.xlabel('Date')\n",
    "# plt.ylabel('Number of Posts')\n"
   ]
  },
  {
   "cell_type": "code",
   "execution_count": 3,
   "id": "c14d9cf2",
   "metadata": {},
   "outputs": [
    {
     "name": "stdout",
     "output_type": "stream",
     "text": [
      "<class 'pandas.core.frame.DataFrame'>\n",
      "RangeIndex: 300 entries, 0 to 299\n",
      "Data columns (total 20 columns):\n",
      " #   Column            Non-Null Count  Dtype         \n",
      "---  ------            --------------  -----         \n",
      " 0   index             300 non-null    int64         \n",
      " 1   Time              300 non-null    datetime64[ns]\n",
      " 2   Keyword           300 non-null    object        \n",
      " 3   Facebook Page     300 non-null    object        \n",
      " 4   Page ID           300 non-null    float64       \n",
      " 5   Fan Count         300 non-null    int64         \n",
      " 6   Post Type         137 non-null    object        \n",
      " 7   Content           300 non-null    object        \n",
      " 8   Engagement Score  300 non-null    int64         \n",
      " 9   Reaction All      300 non-null    int64         \n",
      " 10  Like              300 non-null    int64         \n",
      " 11  Love              300 non-null    int64         \n",
      " 12  HaHa              300 non-null    int64         \n",
      " 13  Wow               300 non-null    int64         \n",
      " 14  Sad               300 non-null    int64         \n",
      " 15  Angry             300 non-null    int64         \n",
      " 16  Shares            300 non-null    int64         \n",
      " 17  Comments          300 non-null    int64         \n",
      " 18  URL               300 non-null    object        \n",
      " 19  Date              300 non-null    object        \n",
      "dtypes: datetime64[ns](1), float64(1), int64(12), object(6)\n",
      "memory usage: 47.0+ KB\n",
      "None\n"
     ]
    }
   ],
   "source": [
    "import pandas as pd\n",
    "# 資料型態初步處理    \n",
    "def time_sort(file):   \n",
    "    data = pd.read_csv(file,thousands = (','))\n",
    "    data['Time'] = pd.to_datetime(data['Time'])\n",
    "    data = data.sort_values(by = 'Time',ascending = True)\n",
    "    data['Date'] = data['Time'].dt.date \n",
    "    return data\n",
    "\n",
    "file1,file2,file3 = '兒福聯盟議題.csv','社工議題資料集.csv','整體議題資料集.csv'\n",
    "\n",
    "data1 = time_sort(file1)\n",
    "data2 = time_sort(file2)\n",
    "data3 = time_sort(file3)\n",
    "\n",
    "data4 = pd.concat([data1,data2,data3],axis = 0)\n",
    "data4.reset_index(inplace = True)\n",
    "print(data4.info())"
   ]
  },
  {
   "cell_type": "code",
   "execution_count": 134,
   "id": "c8b70481",
   "metadata": {},
   "outputs": [],
   "source": [
    "# 檢查Content是否包含任何關鍵字\n",
    "def is_relevant(text):\n",
    "    if isinstance(text, str):\n",
    "        return any(keyword in text for keyword in relevant_keywords)\n",
    "    \n",
    "    return False"
   ]
  },
  {
   "cell_type": "code",
   "execution_count": 137,
   "id": "feb08b4c",
   "metadata": {},
   "outputs": [
    {
     "name": "stdout",
     "output_type": "stream",
     "text": [
      "<class 'pandas.core.frame.DataFrame'>\n",
      "Index: 201 entries, 0 to 291\n",
      "Data columns (total 15 columns):\n",
      " #   Column            Non-Null Count  Dtype \n",
      "---  ------            --------------  ----- \n",
      " 0   Keyword           201 non-null    object\n",
      " 1   Facebook Page     201 non-null    object\n",
      " 2   Fan Count         201 non-null    int64 \n",
      " 3   Content           201 non-null    object\n",
      " 4   Engagement Score  201 non-null    int64 \n",
      " 5   Reaction All      201 non-null    int64 \n",
      " 6   Like              201 non-null    int64 \n",
      " 7   Love              201 non-null    int64 \n",
      " 8   HaHa              201 non-null    int64 \n",
      " 9   Wow               201 non-null    int64 \n",
      " 10  Sad               201 non-null    int64 \n",
      " 11  Angry             201 non-null    int64 \n",
      " 12  Shares            201 non-null    int64 \n",
      " 13  Comments          201 non-null    int64 \n",
      " 14  Date              201 non-null    object\n",
      "dtypes: int64(11), object(4)\n",
      "memory usage: 25.1+ KB\n",
      "None\n"
     ]
    }
   ],
   "source": [
    "import pandas as pd\n",
    "\n",
    "data = pd.read_csv('合併資料.csv')\n",
    "# 去除重複及不要的欄位\n",
    "df = data.drop_duplicates(subset=['Content'], keep='first')\n",
    "# print(df.info())\n",
    "\n",
    "df2 = df.drop(['index','Time','Page ID','Post Type','URL'],axis = 1)\n",
    "print(df2.info())"
   ]
  },
  {
   "cell_type": "code",
   "execution_count": 138,
   "id": "cdf016c2",
   "metadata": {},
   "outputs": [
    {
     "name": "stdout",
     "output_type": "stream",
     "text": [
      "<class 'pandas.core.frame.DataFrame'>\n",
      "Index: 201 entries, 0 to 291\n",
      "Data columns (total 14 columns):\n",
      " #   Column            Non-Null Count  Dtype         \n",
      "---  ------            --------------  -----         \n",
      " 0   Facebook Page     201 non-null    object        \n",
      " 1   Fan Count         201 non-null    int64         \n",
      " 2   Content           201 non-null    object        \n",
      " 3   Engagement Score  201 non-null    int64         \n",
      " 4   Reaction All      201 non-null    int64         \n",
      " 5   Like              201 non-null    int64         \n",
      " 6   Love              201 non-null    int64         \n",
      " 7   HaHa              201 non-null    int64         \n",
      " 8   Wow               201 non-null    int64         \n",
      " 9   Sad               201 non-null    int64         \n",
      " 10  Angry             201 non-null    int64         \n",
      " 11  Shares            201 non-null    int64         \n",
      " 12  Comments          201 non-null    int64         \n",
      " 13  Date              201 non-null    datetime64[ns]\n",
      "dtypes: datetime64[ns](1), int64(11), object(2)\n",
      "memory usage: 23.6+ KB\n",
      "None\n"
     ]
    }
   ],
   "source": [
    "# 轉換日期資料型態\n",
    "df2 = df2.drop(['Keyword'], axis = 1)\n",
    "df2['Date'] = pd.to_datetime(df2['Date'])\n",
    "print(df2.info())"
   ]
  },
  {
   "cell_type": "code",
   "execution_count": 139,
   "id": "ad2e3d49",
   "metadata": {
    "scrolled": true
   },
   "outputs": [
    {
     "data": {
      "text/plain": [
       "(array([19785., 19787., 19789., 19791., 19793., 19795., 19797., 19799.]),\n",
       " [Text(19785.0, 0, '2024-03-03'),\n",
       "  Text(19787.0, 0, '2024-03-05'),\n",
       "  Text(19789.0, 0, '2024-03-07'),\n",
       "  Text(19791.0, 0, '2024-03-09'),\n",
       "  Text(19793.0, 0, '2024-03-11'),\n",
       "  Text(19795.0, 0, '2024-03-13'),\n",
       "  Text(19797.0, 0, '2024-03-15'),\n",
       "  Text(19799.0, 0, '2024-03-17')])"
      ]
     },
     "execution_count": 139,
     "metadata": {},
     "output_type": "execute_result"
    },
    {
     "data": {
      "image/png": "[encoded data removed]",
      "text/plain": [
       "<Figure size 800x600 with 1 Axes>"
      ]
     },
     "metadata": {},
     "output_type": "display_data"
    }
   ],
   "source": [
    "import matplotlib.pyplot as plt\n",
    "import seaborn as sns\n",
    "\n",
    "plt.rcParams[\"font.family\"] = \"Microsoft YaHei\"\n",
    "plt.rcParams[\"font.size\"] = 18\n",
    "\n",
    "daily_interaction = df2.groupby('Date').agg({\n",
    "    'Engagement Score': 'sum',\n",
    "    'Comments': 'sum',\n",
    "    'Shares': 'sum'\n",
    "}).reset_index()\n",
    "# 互動量 = 評論數加分享數\n",
    "daily_interaction['interaction'] = daily_interaction['Comments'] + daily_interaction['Shares']\n",
    "\n",
    "plt.figure(figsize=(8, 6))\n",
    "plt.plot(daily_interaction['Date'], daily_interaction['interaction'])\n",
    "plt.title('每日總互動量趨勢')\n",
    "plt.xlabel('日期')\n",
    "plt.ylabel('互動數')\n",
    "plt.xticks(rotation=45)"
   ]
  },
  {
   "cell_type": "code",
   "execution_count": 140,
   "id": "8c13e68d",
   "metadata": {
    "scrolled": true
   },
   "outputs": [
    {
     "name": "stdout",
     "output_type": "stream",
     "text": [
      "<class 'pandas.core.frame.DataFrame'>\n",
      "RangeIndex: 151 entries, 0 to 150\n",
      "Data columns (total 15 columns):\n",
      " #   Column            Non-Null Count  Dtype         \n",
      "---  ------            --------------  -----         \n",
      " 0   index             151 non-null    int64         \n",
      " 1   Facebook Page     151 non-null    object        \n",
      " 2   Fan Count         151 non-null    int64         \n",
      " 3   Content           151 non-null    object        \n",
      " 4   Engagement Score  151 non-null    int64         \n",
      " 5   Reaction All      151 non-null    int64         \n",
      " 6   Like              151 non-null    int64         \n",
      " 7   Love              151 non-null    int64         \n",
      " 8   HaHa              151 non-null    int64         \n",
      " 9   Wow               151 non-null    int64         \n",
      " 10  Sad               151 non-null    int64         \n",
      " 11  Angry             151 non-null    int64         \n",
      " 12  Shares            151 non-null    int64         \n",
      " 13  Comments          151 non-null    int64         \n",
      " 14  Date              151 non-null    datetime64[ns]\n",
      "dtypes: datetime64[ns](1), int64(12), object(2)\n",
      "memory usage: 17.8+ KB\n",
      "None\n"
     ]
    }
   ],
   "source": [
    " # 設定只想保留資料日期範圍\n",
    "start_date = '2024-03-11'\n",
    "end_date = '2024-03-13'\n",
    "    \n",
    "# 篩選指定日期範圍的資料\n",
    "mask = (df2['Date'] >= start_date) & (df2['Date'] <= end_date)\n",
    "filtered_df = df2[mask]\n",
    "filtered_df.reset_index(inplace = True)\n",
    "print(filtered_df.info())"
   ]
  },
  {
   "cell_type": "code",
   "execution_count": 142,
   "id": "e719b70b",
   "metadata": {},
   "outputs": [],
   "source": [
    "filtered_df.to_excel('三天間的資料.xlsx', sheet_name = '工作表１',index = False)"
   ]
  },
  {
   "cell_type": "code",
   "execution_count": 118,
   "id": "e967ebe5",
   "metadata": {},
   "outputs": [],
   "source": [
    "# 訪視相關、管理、監督等關鍵字\n",
    "lst_view = [\"訪視\",\"視察\",\"訪查\",\"查看\",\"沒有探視\",\"頭髮禿\",\"外傷\",\"撞到\",\"瘀青\",\"家屬探視\",\"拒絕\",\"不方便\"]\n",
    "lst_man = [\"督導\",\"家屬爆料\",\"第一時間\",\"改善\",\"失職\",\"人力\",\"制度\",\"機制\",\"檢討\",\"負責\",\"工作量\"]\n",
    "lst_sup = [\"哭聲\",\"通報\",\"菲傭\",\"外傭\",\"檢舉\",\"投訴\",\"舉報\",\"協調\"]\n"
   ]
  },
  {
   "cell_type": "code",
   "execution_count": 143,
   "id": "04a3c41d",
   "metadata": {
    "scrolled": true
   },
   "outputs": [
    {
     "name": "stdout",
     "output_type": "stream",
     "text": [
      "<class 'pandas.core.frame.DataFrame'>\n",
      "Index: 43 entries, 0 to 147\n",
      "Data columns (total 16 columns):\n",
      " #   Column            Non-Null Count  Dtype         \n",
      "---  ------            --------------  -----         \n",
      " 0   index             43 non-null     int64         \n",
      " 1   Facebook Page     43 non-null     object        \n",
      " 2   Fan Count         43 non-null     int64         \n",
      " 3   Content           43 non-null     object        \n",
      " 4   Engagement Score  43 non-null     int64         \n",
      " 5   Reaction All      43 non-null     int64         \n",
      " 6   Like              43 non-null     int64         \n",
      " 7   Love              43 non-null     int64         \n",
      " 8   HaHa              43 non-null     int64         \n",
      " 9   Wow               43 non-null     int64         \n",
      " 10  Sad               43 non-null     int64         \n",
      " 11  Angry             43 non-null     int64         \n",
      " 12  Shares            43 non-null     int64         \n",
      " 13  Comments          43 non-null     int64         \n",
      " 14  Date              43 non-null     datetime64[ns]\n",
      " 15  Issue             43 non-null     object        \n",
      "dtypes: datetime64[ns](1), int64(12), object(3)\n",
      "memory usage: 5.7+ KB\n",
      "None\n"
     ]
    },
    {
     "name": "stderr",
     "output_type": "stream",
     "text": [
      "C:\\Users\\t1275\\AppData\\Local\\Temp\\ipykernel_15608\\962626510.py:4: SettingWithCopyWarning: \n",
      "A value is trying to be set on a copy of a slice from a DataFrame.\n",
      "Try using .loc[row_indexer,col_indexer] = value instead\n",
      "\n",
      "See the caveats in the documentation: https://pandas.pydata.org/pandas-docs/stable/user_guide/indexing.html#returning-a-view-versus-a-copy\n",
      "  data_view['Issue'] = '訪視'\n"
     ]
    }
   ],
   "source": [
    "# 議題分類\n",
    "lst_view = [\"訪視\",\"視察\",\"訪查\",\"查看\",\"沒有探視\",\"頭髮禿\",\"外傷\",\"撞到\",\"瘀青\",\"家屬探視\",\"拒絕\",\"不方便\"]\n",
    "relevant_keywords = lst_view\n",
    "data_view = filtered_df[filtered_df['Content'].apply(is_relevant)]\n",
    "data_view['Issue'] = '訪視'\n",
    "print(data_view.info())\n"
   ]
  },
  {
   "cell_type": "code",
   "execution_count": 144,
   "id": "5578202a",
   "metadata": {
    "scrolled": true
   },
   "outputs": [
    {
     "name": "stdout",
     "output_type": "stream",
     "text": [
      "<class 'pandas.core.frame.DataFrame'>\n",
      "Index: 60 entries, 3 to 149\n",
      "Data columns (total 16 columns):\n",
      " #   Column            Non-Null Count  Dtype         \n",
      "---  ------            --------------  -----         \n",
      " 0   index             60 non-null     int64         \n",
      " 1   Facebook Page     60 non-null     object        \n",
      " 2   Fan Count         60 non-null     int64         \n",
      " 3   Content           60 non-null     object        \n",
      " 4   Engagement Score  60 non-null     int64         \n",
      " 5   Reaction All      60 non-null     int64         \n",
      " 6   Like              60 non-null     int64         \n",
      " 7   Love              60 non-null     int64         \n",
      " 8   HaHa              60 non-null     int64         \n",
      " 9   Wow               60 non-null     int64         \n",
      " 10  Sad               60 non-null     int64         \n",
      " 11  Angry             60 non-null     int64         \n",
      " 12  Shares            60 non-null     int64         \n",
      " 13  Comments          60 non-null     int64         \n",
      " 14  Date              60 non-null     datetime64[ns]\n",
      " 15  Issue             60 non-null     object        \n",
      "dtypes: datetime64[ns](1), int64(12), object(3)\n",
      "memory usage: 8.0+ KB\n",
      "None\n"
     ]
    },
    {
     "name": "stderr",
     "output_type": "stream",
     "text": [
      "C:\\Users\\t1275\\AppData\\Local\\Temp\\ipykernel_15608\\1788515203.py:3: SettingWithCopyWarning: \n",
      "A value is trying to be set on a copy of a slice from a DataFrame.\n",
      "Try using .loc[row_indexer,col_indexer] = value instead\n",
      "\n",
      "See the caveats in the documentation: https://pandas.pydata.org/pandas-docs/stable/user_guide/indexing.html#returning-a-view-versus-a-copy\n",
      "  data_man['Issue'] = '管理'\n"
     ]
    }
   ],
   "source": [
    "relevant_keywords = lst_man\n",
    "data_man = filtered_df[filtered_df['Content'].apply(is_relevant)]\n",
    "data_man['Issue'] = '管理'\n",
    "print(data_man.info())\n",
    "# data_view.to_csv('訪視議題貼文.csv', index = False)"
   ]
  },
  {
   "cell_type": "code",
   "execution_count": 145,
   "id": "0874d708",
   "metadata": {},
   "outputs": [
    {
     "name": "stdout",
     "output_type": "stream",
     "text": [
      "<class 'pandas.core.frame.DataFrame'>\n",
      "Index: 18 entries, 14 to 149\n",
      "Data columns (total 16 columns):\n",
      " #   Column            Non-Null Count  Dtype         \n",
      "---  ------            --------------  -----         \n",
      " 0   index             18 non-null     int64         \n",
      " 1   Facebook Page     18 non-null     object        \n",
      " 2   Fan Count         18 non-null     int64         \n",
      " 3   Content           18 non-null     object        \n",
      " 4   Engagement Score  18 non-null     int64         \n",
      " 5   Reaction All      18 non-null     int64         \n",
      " 6   Like              18 non-null     int64         \n",
      " 7   Love              18 non-null     int64         \n",
      " 8   HaHa              18 non-null     int64         \n",
      " 9   Wow               18 non-null     int64         \n",
      " 10  Sad               18 non-null     int64         \n",
      " 11  Angry             18 non-null     int64         \n",
      " 12  Shares            18 non-null     int64         \n",
      " 13  Comments          18 non-null     int64         \n",
      " 14  Date              18 non-null     datetime64[ns]\n",
      " 15  Issue             18 non-null     object        \n",
      "dtypes: datetime64[ns](1), int64(12), object(3)\n",
      "memory usage: 2.4+ KB\n",
      "None\n"
     ]
    },
    {
     "name": "stderr",
     "output_type": "stream",
     "text": [
      "C:\\Users\\t1275\\AppData\\Local\\Temp\\ipykernel_15608\\1616342954.py:3: SettingWithCopyWarning: \n",
      "A value is trying to be set on a copy of a slice from a DataFrame.\n",
      "Try using .loc[row_indexer,col_indexer] = value instead\n",
      "\n",
      "See the caveats in the documentation: https://pandas.pydata.org/pandas-docs/stable/user_guide/indexing.html#returning-a-view-versus-a-copy\n",
      "  data_sup['Issue'] = '監督'\n"
     ]
    }
   ],
   "source": [
    "relevant_keywords = lst_sup\n",
    "data_sup = filtered_df[filtered_df['Content'].apply(is_relevant)]\n",
    "data_sup['Issue'] = '監督'\n",
    "print(data_sup.info())"
   ]
  },
  {
   "cell_type": "code",
   "execution_count": 57,
   "id": "43f1d236",
   "metadata": {},
   "outputs": [],
   "source": [
    "def calculate_stats_df(df):\n",
    "    # 計算統計數據\n",
    "    stats = {\n",
    "        '影響力分數': [round(df['Engagement Score'].mean(), 0)],\n",
    "        '發文數' : [len(df)],\n",
    "        '互動數': [df['Comments'].sum() + df['Shares'].sum()],\n",
    "        '平均按讚數': [round(df['Like'].mean(),0)]\n",
    "    }\n",
    "    \n",
    "    # 創建DataFrame\n",
    "    stats_df = pd.DataFrame(stats)\n",
    "    \n",
    "    return stats_df"
   ]
  },
  {
   "cell_type": "code",
   "execution_count": 122,
   "id": "4c2b8231",
   "metadata": {},
   "outputs": [
    {
     "data": {
      "text/html": [
       "<div>\n",
       "<style scoped>\n",
       "    .dataframe tbody tr th:only-of-type {\n",
       "        vertical-align: middle;\n",
       "    }\n",
       "\n",
       "    .dataframe tbody tr th {\n",
       "        vertical-align: top;\n",
       "    }\n",
       "\n",
       "    .dataframe thead th {\n",
       "        text-align: right;\n",
       "    }\n",
       "</style>\n",
       "<table border=\"1\" class=\"dataframe\">\n",
       "  <thead>\n",
       "    <tr style=\"text-align: right;\">\n",
       "      <th></th>\n",
       "      <th>議題</th>\n",
       "      <th>影響力分數</th>\n",
       "      <th>發文數</th>\n",
       "      <th>互動數</th>\n",
       "      <th>平均按讚數</th>\n",
       "    </tr>\n",
       "  </thead>\n",
       "  <tbody>\n",
       "    <tr>\n",
       "      <th>0</th>\n",
       "      <td>訪視</td>\n",
       "      <td>1093.0</td>\n",
       "      <td>43</td>\n",
       "      <td>75912</td>\n",
       "      <td>3282.0</td>\n",
       "    </tr>\n",
       "  </tbody>\n",
       "</table>\n",
       "</div>"
      ],
      "text/plain": [
       "   議題   影響力分數  發文數    互動數   平均按讚數\n",
       "0  訪視  1093.0   43  75912  3282.0"
      ]
     },
     "execution_count": 122,
     "metadata": {},
     "output_type": "execute_result"
    }
   ],
   "source": [
    "result_view = calculate_stats_df(data_view)\n",
    "result_view.insert(0, '議題','訪視')\n",
    "result_view"
   ]
  },
  {
   "cell_type": "code",
   "execution_count": 123,
   "id": "bd9db64f",
   "metadata": {},
   "outputs": [
    {
     "data": {
      "text/html": [
       "<div>\n",
       "<style scoped>\n",
       "    .dataframe tbody tr th:only-of-type {\n",
       "        vertical-align: middle;\n",
       "    }\n",
       "\n",
       "    .dataframe tbody tr th {\n",
       "        vertical-align: top;\n",
       "    }\n",
       "\n",
       "    .dataframe thead th {\n",
       "        text-align: right;\n",
       "    }\n",
       "</style>\n",
       "<table border=\"1\" class=\"dataframe\">\n",
       "  <thead>\n",
       "    <tr style=\"text-align: right;\">\n",
       "      <th></th>\n",
       "      <th>議題</th>\n",
       "      <th>影響力分數</th>\n",
       "      <th>發文數</th>\n",
       "      <th>互動數</th>\n",
       "      <th>平均按讚數</th>\n",
       "    </tr>\n",
       "  </thead>\n",
       "  <tbody>\n",
       "    <tr>\n",
       "      <th>0</th>\n",
       "      <td>管理</td>\n",
       "      <td>1167.0</td>\n",
       "      <td>60</td>\n",
       "      <td>88410</td>\n",
       "      <td>4300.0</td>\n",
       "    </tr>\n",
       "  </tbody>\n",
       "</table>\n",
       "</div>"
      ],
      "text/plain": [
       "   議題   影響力分數  發文數    互動數   平均按讚數\n",
       "0  管理  1167.0   60  88410  4300.0"
      ]
     },
     "execution_count": 123,
     "metadata": {},
     "output_type": "execute_result"
    }
   ],
   "source": [
    "result_man = calculate_stats_df(data_man)\n",
    "result_man.insert(0, '議題','管理')\n",
    "result_man"
   ]
  },
  {
   "cell_type": "code",
   "execution_count": 125,
   "id": "bcad5669",
   "metadata": {},
   "outputs": [
    {
     "data": {
      "text/html": [
       "<div>\n",
       "<style scoped>\n",
       "    .dataframe tbody tr th:only-of-type {\n",
       "        vertical-align: middle;\n",
       "    }\n",
       "\n",
       "    .dataframe tbody tr th {\n",
       "        vertical-align: top;\n",
       "    }\n",
       "\n",
       "    .dataframe thead th {\n",
       "        text-align: right;\n",
       "    }\n",
       "</style>\n",
       "<table border=\"1\" class=\"dataframe\">\n",
       "  <thead>\n",
       "    <tr style=\"text-align: right;\">\n",
       "      <th></th>\n",
       "      <th>議題</th>\n",
       "      <th>影響力分數</th>\n",
       "      <th>發文數</th>\n",
       "      <th>互動數</th>\n",
       "      <th>平均按讚數</th>\n",
       "    </tr>\n",
       "  </thead>\n",
       "  <tbody>\n",
       "    <tr>\n",
       "      <th>0</th>\n",
       "      <td>監督</td>\n",
       "      <td>1120.0</td>\n",
       "      <td>18</td>\n",
       "      <td>26878</td>\n",
       "      <td>4189.0</td>\n",
       "    </tr>\n",
       "  </tbody>\n",
       "</table>\n",
       "</div>"
      ],
      "text/plain": [
       "   議題   影響力分數  發文數    互動數   平均按讚數\n",
       "0  監督  1120.0   18  26878  4189.0"
      ]
     },
     "execution_count": 125,
     "metadata": {},
     "output_type": "execute_result"
    }
   ],
   "source": [
    "result_sup = calculate_stats_df(data_sup)\n",
    "result_sup.insert(0, '議題','監督')\n",
    "result_sup"
   ]
  },
  {
   "cell_type": "code",
   "execution_count": 128,
   "id": "1ea72c44",
   "metadata": {},
   "outputs": [
    {
     "name": "stdout",
     "output_type": "stream",
     "text": [
      "   index  議題   影響力分數  發文數    互動數   平均按讚數\n",
      "0      0  訪視  1093.0   43  75912  3282.0\n",
      "1      0  管理  1167.0   60  88410  4300.0\n",
      "2      0  監督  1120.0   18  26878  4189.0\n"
     ]
    }
   ],
   "source": [
    "# 合併表格顯示 data4 = pd.concat([data1,data2,data3],axis = 0)\n",
    "result = pd.concat([result_view,result_man,result_sup], axis = 0)\n",
    "\n",
    "result.reset_index(inplace = True)\n",
    "\n",
    "\n",
    "numeric_columns = ['影響力分數','發文數','互動數','平均按讚數']\n",
    "\n",
    "for col in numeric_columns:\n",
    "    result[col] = pd.to_numeric(result[col])\n",
    "    \n",
    "result.sort_values(by = '互動數',ascending = False)\n",
    "print(result)"
   ]
  },
  {
   "cell_type": "code",
   "execution_count": 129,
   "id": "9092a1bb",
   "metadata": {},
   "outputs": [
    {
     "name": "stdout",
     "output_type": "stream",
     "text": [
      "議題          訪視       管理       監督\n",
      "影響力分數   1093.0   1167.0   1120.0\n",
      "發文數       43.0     60.0     18.0\n",
      "互動數    75912.0  88410.0  26878.0\n",
      "平均按讚數   3282.0   4300.0   4189.0\n"
     ]
    }
   ],
   "source": [
    "result= result.drop('index', axis=1).set_index('議題')\n",
    "\n",
    "result2 = result.T\n",
    "print(result2)"
   ]
  },
  {
   "cell_type": "code",
   "execution_count": 132,
   "id": "ac843101",
   "metadata": {},
   "outputs": [
    {
     "data": {
      "image/png": "[encoded data removed]",
      "text/plain": [
       "<Figure size 1000x800 with 1 Axes>"
      ]
     },
     "metadata": {},
     "output_type": "display_data"
    }
   ],
   "source": [
    "# 議題佔比圓餅圖\n",
    "interactions = result2.loc['互動數']\n",
    "\n",
    "# 計算佔比百分比\n",
    "percentages = (interactions / interactions.sum()) * 100\n",
    "\n",
    "# 創建圓餅圖\n",
    "plt.figure(figsize=(10, 8))\n",
    "plt.pie(percentages, \n",
    "        labels=[f'{label}\\n{value:.1f}%' for label, value in percentages.items()],\n",
    "        autopct='',\n",
    "        startangle=90)\n",
    "\n",
    "# 添加標題\n",
    "plt.title('各議題互動數佔比', pad=20, size=24)\n",
    "\n",
    "# 添加圖例\n",
    "plt.legend(interactions.index, title=\"議題\", loc=\"center left\", bbox_to_anchor=(1, 0, 0.5, 1))\n",
    "\n",
    "# 調整布局\n",
    "plt.tight_layout()\n",
    "\n",
    "# 顯示圖表\n",
    "plt.show()"
   ]
  },
  {
   "cell_type": "code",
   "execution_count": null,
   "id": "9fc1041e",
   "metadata": {},
   "outputs": [],
   "source": []
  }
 ],
 "metadata": {
  "kernelspec": {
   "display_name": "Python 3 (ipykernel)",
   "language": "python",
   "name": "python3"
  },
  "language_info": {
   "codemirror_mode": {
    "name": "ipython",
    "version": 3
   },
   "file_extension": ".py",
   "mimetype": "text/x-python",
   "name": "python",
   "nbconvert_exporter": "python",
   "pygments_lexer": "ipython3",
   "version": "3.11.5"
  }
 },
 "nbformat": 4,
 "nbformat_minor": 5
}
